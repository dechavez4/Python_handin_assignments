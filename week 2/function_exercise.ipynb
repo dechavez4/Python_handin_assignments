{
 "cells": [
  {
   "cell_type": "code",
   "execution_count": 7,
   "metadata": {},
   "outputs": [
    {
     "name": "stdout",
     "output_type": "stream",
     "text": [
      "Joanna\n",
      "Jack\n",
      "Janni\n",
      "Jesper\n"
     ]
    }
   ],
   "source": [
    "#Write a function that iterates through a list and prints each value without using a loop.\n",
    "names = [\"Joanna\", \"Jack\", \"Janni\", \"Jesper\"]\n",
    "\n",
    "def show_names(myList):\n",
    "    print((myList[0]))\n",
    "    myList.remove(myList[0])\n",
    "    if(len(myList) > 0):\n",
    "    show_names(myList)\n",
    "\n",
    "show_names(names)"
   ]
  },
  {
   "cell_type": "code",
   "execution_count": 103,
   "metadata": {},
   "outputs": [
    {
     "data": {
      "text/plain": [
       "'heyu'"
      ]
     },
     "execution_count": 103,
     "metadata": {},
     "output_type": "execute_result"
    }
   ],
   "source": [
    "#Write a function that can take any number of arguments and return all arguments concatenated or summed depending on the data type\n",
    "def sum_all(*my_numbers):\n",
    "    if type(my_numbers[0]) == int: \n",
    "        total = 0\n",
    "    if type(my_numbers[0]) == str:\n",
    "        total = \"\"\n",
    "        \n",
    "    for nr in my_numbers: \n",
    "        total += nr\n",
    "    return total\n",
    "\n",
    "sum_all(\"he\",\"y\",\"u\")\n"
   ]
  },
  {
   "cell_type": "code",
   "execution_count": 112,
   "metadata": {},
   "outputs": [
    {
     "name": "stdout",
     "output_type": "stream",
     "text": [
      "['name', 'department', 'birthday month']\n",
      "['John Smith', 'Accounting', 'November']\n",
      "['Erica Meyers', 'IT', 'March']\n"
     ]
    }
   ],
   "source": [
    "import csv\n",
    "\n",
    "with open('employee_birthday.txt') as csv_file:\n",
    "    content = csv_file.readlines()\n",
    "    \n",
    "    for line in content[:20]:\n",
    "        print(line.strip().split(','))"
   ]
  },
  {
   "cell_type": "code",
   "execution_count": null,
   "metadata": {},
   "outputs": [],
   "source": []
  }
 ],
 "metadata": {
  "kernelspec": {
   "display_name": "Python 3",
   "language": "python",
   "name": "python3"
  },
  "language_info": {
   "codemirror_mode": {
    "name": "ipython",
    "version": 3
   },
   "file_extension": ".py",
   "mimetype": "text/x-python",
   "name": "python",
   "nbconvert_exporter": "python",
   "pygments_lexer": "ipython3",
   "version": "3.7.4"
  }
 },
 "nbformat": 4,
 "nbformat_minor": 2
}
